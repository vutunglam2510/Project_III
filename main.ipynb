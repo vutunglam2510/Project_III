{
  "nbformat": 4,
  "nbformat_minor": 0,
  "metadata": {
    "accelerator": "GPU",
    "colab": {
      "name": "main.ipynb",
      "provenance": [],
      "collapsed_sections": [],
      "toc_visible": true,
      "include_colab_link": true
    },
    "kernelspec": {
      "display_name": "Python 3",
      "language": "python",
      "name": "python3"
    },
    "language_info": {
      "codemirror_mode": {
        "name": "ipython",
        "version": 3
      },
      "file_extension": ".py",
      "mimetype": "text/x-python",
      "name": "python",
      "nbconvert_exporter": "python",
      "pygments_lexer": "ipython3",
      "version": "3.8.5"
    }
  },
  "cells": [
    {
      "cell_type": "markdown",
      "metadata": {
        "id": "view-in-github",
        "colab_type": "text"
      },
      "source": [
        "<a href=\"https://colab.research.google.com/github/vutunglam2510/Project_III/blob/main/main.ipynb\" target=\"_parent\"><img src=\"https://colab.research.google.com/assets/colab-badge.svg\" alt=\"Open In Colab\"/></a>"
      ]
    },
    {
      "cell_type": "markdown",
      "metadata": {
        "id": "NfEix1xOs1IF"
      },
      "source": [
        "# Phân loại ảnh ký tự tiếng Việt"
      ]
    },
    {
      "cell_type": "markdown",
      "metadata": {
        "id": "9byvPDbBuuJC"
      },
      "source": [
        "### Hiển thị cấu hình máy Colab\n",
        "Chọn sử dụng GPU:\n",
        "Thời gian chạy => Thay đổi loại thời gian chạy => Trình tăng tốc phần cứng - Chọn GPU<br>\n",
        "(Runtime => Change runtime => Hardware acceleration - Choose GPU)"
      ]
    },
    {
      "cell_type": "code",
      "metadata": {
        "colab": {
          "base_uri": "https://localhost:8080/"
        },
        "id": "fvK8m3HRuteD",
        "outputId": "ca556f74-42ba-4516-b9b8-381afc5f464c"
      },
      "source": [
        "# GPU Tesla T4\n",
        "from tensorflow.python.client import device_lib\n",
        "device_lib.list_local_devices()"
      ],
      "execution_count": null,
      "outputs": [
        {
          "output_type": "execute_result",
          "data": {
            "text/plain": [
              "[name: \"/device:CPU:0\"\n",
              " device_type: \"CPU\"\n",
              " memory_limit: 268435456\n",
              " locality {\n",
              " }\n",
              " incarnation: 18402100872019696235, name: \"/device:XLA_CPU:0\"\n",
              " device_type: \"XLA_CPU\"\n",
              " memory_limit: 17179869184\n",
              " locality {\n",
              " }\n",
              " incarnation: 5315380645851915131\n",
              " physical_device_desc: \"device: XLA_CPU device\", name: \"/device:XLA_GPU:0\"\n",
              " device_type: \"XLA_GPU\"\n",
              " memory_limit: 17179869184\n",
              " locality {\n",
              " }\n",
              " incarnation: 17536833946209980356\n",
              " physical_device_desc: \"device: XLA_GPU device\", name: \"/device:GPU:0\"\n",
              " device_type: \"GPU\"\n",
              " memory_limit: 14640891840\n",
              " locality {\n",
              "   bus_id: 1\n",
              "   links {\n",
              "   }\n",
              " }\n",
              " incarnation: 4183847953585786239\n",
              " physical_device_desc: \"device: 0, name: Tesla T4, pci bus id: 0000:00:04.0, compute capability: 7.5\"]"
            ]
          },
          "metadata": {
            "tags": []
          },
          "execution_count": 9
        }
      ]
    },
    {
      "cell_type": "code",
      "metadata": {
        "colab": {
          "base_uri": "https://localhost:8080/"
        },
        "id": "exNcQniWxTw9",
        "outputId": "92619d78-3208-4d92-e300-4b4b6e58e2c2"
      },
      "source": [
        "# ~ 13GB RAM, ~ 9.6GB RAM free\n",
        "!cat /proc/meminfo"
      ],
      "execution_count": null,
      "outputs": [
        {
          "output_type": "stream",
          "text": [
            "MemTotal:       13333596 kB\n",
            "MemFree:         9343220 kB\n",
            "MemAvailable:   11883296 kB\n",
            "Buffers:           82324 kB\n",
            "Cached:          2484596 kB\n",
            "SwapCached:            0 kB\n",
            "Active:          1187428 kB\n",
            "Inactive:        2411824 kB\n",
            "Active(anon):     872408 kB\n",
            "Inactive(anon):     8548 kB\n",
            "Active(file):     315020 kB\n",
            "Inactive(file):  2403276 kB\n",
            "Unevictable:           0 kB\n",
            "Mlocked:               0 kB\n",
            "SwapTotal:             0 kB\n",
            "SwapFree:              0 kB\n",
            "Dirty:              1008 kB\n",
            "Writeback:             0 kB\n",
            "AnonPages:       1032420 kB\n",
            "Mapped:           603884 kB\n",
            "Shmem:              9156 kB\n",
            "Slab:             171880 kB\n",
            "SReclaimable:     125196 kB\n",
            "SUnreclaim:        46684 kB\n",
            "KernelStack:        4868 kB\n",
            "PageTables:         9372 kB\n",
            "NFS_Unstable:          0 kB\n",
            "Bounce:                0 kB\n",
            "WritebackTmp:          0 kB\n",
            "CommitLimit:     6666796 kB\n",
            "Committed_AS:    3806428 kB\n",
            "VmallocTotal:   34359738367 kB\n",
            "VmallocUsed:           0 kB\n",
            "VmallocChunk:          0 kB\n",
            "Percpu:              944 kB\n",
            "AnonHugePages:         0 kB\n",
            "ShmemHugePages:        0 kB\n",
            "ShmemPmdMapped:        0 kB\n",
            "HugePages_Total:       0\n",
            "HugePages_Free:        0\n",
            "HugePages_Rsvd:        0\n",
            "HugePages_Surp:        0\n",
            "Hugepagesize:       2048 kB\n",
            "Hugetlb:               0 kB\n",
            "DirectMap4k:      187624 kB\n",
            "DirectMap2M:     6103040 kB\n",
            "DirectMap1G:     9437184 kB\n"
          ],
          "name": "stdout"
        }
      ]
    },
    {
      "cell_type": "code",
      "metadata": {
        "colab": {
          "base_uri": "https://localhost:8080/"
        },
        "id": "3DR87AjyxsE2",
        "outputId": "f75f0563-56b0-43df-c865-9a27a6cd18d5"
      },
      "source": [
        "#CPU Intel Xeon 2.20GHz\n",
        "!cat /proc/cpuinfo"
      ],
      "execution_count": null,
      "outputs": [
        {
          "output_type": "stream",
          "text": [
            "processor\t: 0\n",
            "vendor_id\t: GenuineIntel\n",
            "cpu family\t: 6\n",
            "model\t\t: 79\n",
            "model name\t: Intel(R) Xeon(R) CPU @ 2.20GHz\n",
            "stepping\t: 0\n",
            "microcode\t: 0x1\n",
            "cpu MHz\t\t: 2200.000\n",
            "cache size\t: 56320 KB\n",
            "physical id\t: 0\n",
            "siblings\t: 2\n",
            "core id\t\t: 0\n",
            "cpu cores\t: 1\n",
            "apicid\t\t: 0\n",
            "initial apicid\t: 0\n",
            "fpu\t\t: yes\n",
            "fpu_exception\t: yes\n",
            "cpuid level\t: 13\n",
            "wp\t\t: yes\n",
            "flags\t\t: fpu vme de pse tsc msr pae mce cx8 apic sep mtrr pge mca cmov pat pse36 clflush mmx fxsr sse sse2 ss ht syscall nx pdpe1gb rdtscp lm constant_tsc rep_good nopl xtopology nonstop_tsc cpuid tsc_known_freq pni pclmulqdq ssse3 fma cx16 pcid sse4_1 sse4_2 x2apic movbe popcnt aes xsave avx f16c rdrand hypervisor lahf_lm abm 3dnowprefetch invpcid_single ssbd ibrs ibpb stibp fsgsbase tsc_adjust bmi1 hle avx2 smep bmi2 erms invpcid rtm rdseed adx smap xsaveopt arat md_clear arch_capabilities\n",
            "bugs\t\t: cpu_meltdown spectre_v1 spectre_v2 spec_store_bypass l1tf mds swapgs taa\n",
            "bogomips\t: 4400.00\n",
            "clflush size\t: 64\n",
            "cache_alignment\t: 64\n",
            "address sizes\t: 46 bits physical, 48 bits virtual\n",
            "power management:\n",
            "\n",
            "processor\t: 1\n",
            "vendor_id\t: GenuineIntel\n",
            "cpu family\t: 6\n",
            "model\t\t: 79\n",
            "model name\t: Intel(R) Xeon(R) CPU @ 2.20GHz\n",
            "stepping\t: 0\n",
            "microcode\t: 0x1\n",
            "cpu MHz\t\t: 2200.000\n",
            "cache size\t: 56320 KB\n",
            "physical id\t: 0\n",
            "siblings\t: 2\n",
            "core id\t\t: 0\n",
            "cpu cores\t: 1\n",
            "apicid\t\t: 1\n",
            "initial apicid\t: 1\n",
            "fpu\t\t: yes\n",
            "fpu_exception\t: yes\n",
            "cpuid level\t: 13\n",
            "wp\t\t: yes\n",
            "flags\t\t: fpu vme de pse tsc msr pae mce cx8 apic sep mtrr pge mca cmov pat pse36 clflush mmx fxsr sse sse2 ss ht syscall nx pdpe1gb rdtscp lm constant_tsc rep_good nopl xtopology nonstop_tsc cpuid tsc_known_freq pni pclmulqdq ssse3 fma cx16 pcid sse4_1 sse4_2 x2apic movbe popcnt aes xsave avx f16c rdrand hypervisor lahf_lm abm 3dnowprefetch invpcid_single ssbd ibrs ibpb stibp fsgsbase tsc_adjust bmi1 hle avx2 smep bmi2 erms invpcid rtm rdseed adx smap xsaveopt arat md_clear arch_capabilities\n",
            "bugs\t\t: cpu_meltdown spectre_v1 spectre_v2 spec_store_bypass l1tf mds swapgs taa\n",
            "bogomips\t: 4400.00\n",
            "clflush size\t: 64\n",
            "cache_alignment\t: 64\n",
            "address sizes\t: 46 bits physical, 48 bits virtual\n",
            "power management:\n",
            "\n"
          ],
          "name": "stdout"
        }
      ]
    },
    {
      "cell_type": "markdown",
      "metadata": {
        "id": "oSAP7BmRtI_W"
      },
      "source": [
        "### Kết nối colab với Drive cá nhân"
      ]
    },
    {
      "cell_type": "code",
      "metadata": {
        "id": "oBnx01g5ZO8f",
        "colab": {
          "base_uri": "https://localhost:8080/"
        },
        "outputId": "a3c87578-c2c3-4b97-c0db-410f3f99d95f"
      },
      "source": [
        "from google.colab import drive\n",
        "\n",
        "drive.mount('/content/drive/')"
      ],
      "execution_count": null,
      "outputs": [
        {
          "output_type": "stream",
          "text": [
            "Drive already mounted at /content/drive/; to attempt to forcibly remount, call drive.mount(\"/content/drive/\", force_remount=True).\n"
          ],
          "name": "stdout"
        }
      ]
    },
    {
      "cell_type": "code",
      "metadata": {
        "colab": {
          "base_uri": "https://localhost:8080/"
        },
        "id": "W26bKB6arRQp",
        "outputId": "6e766fe8-10ce-41ab-d200-941492927b9b"
      },
      "source": [
        "from google.colab import drive\n",
        "drive.mount('/content/drive')"
      ],
      "execution_count": null,
      "outputs": [
        {
          "output_type": "stream",
          "text": [
            "Drive already mounted at /content/drive; to attempt to forcibly remount, call drive.mount(\"/content/drive\", force_remount=True).\n"
          ],
          "name": "stdout"
        }
      ]
    },
    {
      "cell_type": "markdown",
      "metadata": {
        "id": "eu6xhVdyCyMF"
      },
      "source": [
        "### Giải nén dữ liệu từ Drive vào máy Colab để load data nhanh hơn\n",
        "Sau khi giải nén, data nằm ở đường dẫn /tmp/data trên máy colab"
      ]
    },
    {
      "cell_type": "code",
      "metadata": {
        "id": "_vhzMIA1B39w"
      },
      "source": [
        "import zipfile\n",
        "\n",
        "zip_ref = zipfile.ZipFile(\"/content/drive/MyDrive/Data/data.zip\", 'r')\n",
        "zip_ref.extractall(\"/tmp\")\n",
        "zip_ref.close()"
      ],
      "execution_count": null,
      "outputs": []
    },
    {
      "cell_type": "markdown",
      "metadata": {
        "id": "jk2KGe83ypln"
      },
      "source": [
        "### import các thư viện cần dùng\n",
        "**os**: đọc thư mục, **os.listdir()**: trả về danh sách các tệp, thư mục trong một đường dẫn<br>\n",
        "**cv2**: opencv, đọc và xử lý ảnh<br>\n",
        "**numpy**<br>\n",
        "**train_test_split** trong sklearn.model_selection: chia ảnh và nhãn thành các tập train, test<br>\n",
        "**np_utils** trong keras.utils: mã hóa one-hot cho nhãn với np_utils.to_categorical()<br>\n",
        "Các tầng **Conv2D, Dense, AveragePooling2D, Flatten** trong keras.layers:<br>\n",
        "**Conv2D**: tầng tích chập<br>\n",
        "**Dense**: tầng kết nối đầy đủ<br>\n",
        "**AveragePooling2D**: tầng pooling<br>\n",
        "**Flatten**: đưa đầu vào thành đầu ra 1 chiều<br>\n",
        "**SGD** trong keras.optimizers: giải thuật tối ưu Stochastic Gradient Descent<br>\n",
        "**Sequential**: khởi tạo model<br>\n",
        "**load_model**: load model đã lưu<br>\n",
        "**time, timedelta**: ghi lại thời gian train, test, predict"
      ]
    },
    {
      "cell_type": "code",
      "metadata": {
        "id": "VWPtPZ9HbEa0"
      },
      "source": [
        "import os # to load data\n",
        "import cv2 # opencv\n",
        "import numpy as np\n",
        "from sklearn.model_selection import train_test_split\n",
        "from keras.utils import np_utils # for one-hot encoding\n",
        "import keras\n",
        "from keras.models import Sequential, load_model\n",
        "from keras.layers import Conv2D, Dense, AveragePooling2D, Flatten\n",
        "from keras.optimizers import SGD\n",
        "from time import time\n",
        "from datetime import timedelta\n",
        "from sklearn.metrics import accuracy_score, confusion_matrix\n",
        "import matplotlib.pyplot as plt"
      ],
      "execution_count": null,
      "outputs": []
    },
    {
      "cell_type": "markdown",
      "metadata": {
        "id": "Dq4zM-Gb4rVl"
      },
      "source": [
        "### Đọc ảnh và nhãn theo thư mục vào 2 list trainX, trainY\n",
        "Đọc vào ảnh đen trắng kích thước (28, 28), resize ảnh về kích thước (32, 32)<br>\n",
        "os.listdir() trả về các đường dẫn không theo thứ tự tên"
      ]
    },
    {
      "cell_type": "code",
      "metadata": {
        "id": "rz9Kg9NDbdar"
      },
      "source": [
        "nClasses = 190\n",
        "dataPath = '/tmp/data/'\n",
        "dataFolders = [str(i) for i in range(nClasses)]\n",
        "trainX = []\n",
        "trainY = []\n",
        "for i in range(len(dataFolders)):\n",
        "    print(\"Loading folder\", i)\n",
        "    charFolder = dataPath + dataFolders[i] + '/'\n",
        "    charFiles = os.listdir(charFolder)\n",
        "    y = int(dataFolders[i])\n",
        "    for j in range(len(charFiles)):\n",
        "        if j%100 == 0:\n",
        "            print(\"Loaded\", j)\n",
        "        img = cv2.imread(charFolder+charFiles[j], cv2.IMREAD_GRAYSCALE)\n",
        "        img = cv2.resize(img, (32, 32))\n",
        "        trainX.append(img)\n",
        "        trainY.append(y)"
      ],
      "execution_count": null,
      "outputs": []
    },
    {
      "cell_type": "markdown",
      "metadata": {
        "id": "t45iAsGq79Vu"
      },
      "source": [
        "### Dữ liệu ví dụ của kí tự 'a'"
      ]
    },
    {
      "cell_type": "code",
      "metadata": {
        "colab": {
          "base_uri": "https://localhost:8080/",
          "height": 322
        },
        "id": "xRhog8yrzYFx",
        "outputId": "62e7a329-ffdf-4fa4-90df-d4c7c5b90076"
      },
      "source": [
        "nRows = 3\n",
        "nCols = 4\n",
        "dataPath = '/tmp/data/'\n",
        "labels = '0'\n",
        "plt.figure(figsize=(10,5))\n",
        "for i in range(1, nRows*nCols+1):\n",
        "    img = cv2.imread(dataPath + '0/' + str(i) + '.png', cv2.IMREAD_GRAYSCALE)\n",
        "    plt.subplot(nRows, nCols, i)\n",
        "    plt.imshow(img, cmap='gray')\n",
        "plt.show()\n",
        "# plt.savefig('/content/drive/My Drive/Deep_Learning/example.png', dpi=300)"
      ],
      "execution_count": null,
      "outputs": [
        {
          "output_type": "display_data",
          "data": {
            "image/png": "[encoded data removed]",
            "text/plain": [
              "<Figure size 720x360 with 12 Axes>"
            ]
          },
          "metadata": {
            "tags": [],
            "needs_background": "light"
          }
        }
      ]
    },
    {
      "cell_type": "markdown",
      "metadata": {
        "id": "ODwduxky7eLC"
      },
      "source": [
        "###Chuyển trainX, trainY thành mảng numpy"
      ]
    },
    {
      "cell_type": "code",
      "metadata": {
        "id": "Brewo5hxEI8X"
      },
      "source": [
        "trainX = np.array(trainX)\n",
        "trainY = np.array(trainY)"
      ],
      "execution_count": null,
      "outputs": []
    },
    {
      "cell_type": "markdown",
      "metadata": {
        "id": "56zeIG5fLvoC"
      },
      "source": [
        "###Tổng số lượng ảnh là 105640, gồm 190 lớp, mỗi lớp 556 ảnh"
      ]
    },
    {
      "cell_type": "code",
      "metadata": {
        "id": "N4ws2wvaPboe"
      },
      "source": [
        "def print_n_images_per_class(y):\n",
        "    classes, occurCount = np.unique(y, return_counts=True)\n",
        "    nClasses = len(classes)\n",
        "    for i in range(nClasses):\n",
        "        print(\"Class {} has {} images\".format(classes[i], occurCount[i]))\n",
        "    print(\"The range of number of images: {}-{}\".format(min(occurCount), max(occurCount)))\n",
        "    # plt.plot(classes, occurCount)\n",
        "    # plt.show()  "
      ],
      "execution_count": null,
      "outputs": []
    },
    {
      "cell_type": "code",
      "metadata": {
        "id": "ZSQ_a6kYENMW"
      },
      "source": [
        "nData = len(trainX)\n",
        "print('Total number of images:', nData)\n",
        "nClasses = len(np.unique(trainY))\n",
        "print_n_images_per_class(trainY)"
      ],
      "execution_count": null,
      "outputs": []
    },
    {
      "cell_type": "markdown",
      "metadata": {
        "id": "Fc4AbRxbMHDv"
      },
      "source": [
        "###Thêm một chiều cho tập ảnh để phù hợp với đầu vào cho tầng tích chập Conv2D\n",
        "Khi đọc vào ảnh đen trắng có kích thước (32, 32), tập ảnh có kích thước (nData, 32, 32), thêm một chiều thành (nData, 32, 32, 1)<br>\n",
        "Với ảnh màu RGB, khi đọc vào có kích thước (32, 32, 3), tập ảnh có kích thước (nData, 32, 32, 3)"
      ]
    },
    {
      "cell_type": "code",
      "metadata": {
        "id": "DFbpTv7FNvUN"
      },
      "source": [
        "trainX = trainX.reshape(nData, 32, 32, 1)"
      ],
      "execution_count": null,
      "outputs": []
    },
    {
      "cell_type": "markdown",
      "metadata": {
        "id": "ohnyBirgN1Uq"
      },
      "source": [
        "###Chuẩn hóa các giá trị điểm ảnh về đoạn [0, 1]"
      ]
    },
    {
      "cell_type": "code",
      "metadata": {
        "id": "B9xtOcVTN0ha"
      },
      "source": [
        "trainX = trainX.astype('float32')\n",
        "trainX = trainX/255"
      ],
      "execution_count": null,
      "outputs": []
    },
    {
      "cell_type": "markdown",
      "metadata": {
        "id": "UkROTN5BObjB"
      },
      "source": [
        "###Chia dữ liệu thành 2 tập train, test với tỷ lệ tập test là 0.3\n",
        "random_state là giá trị để các lần chạy khác nhau có kết quả chia ngẫu nhiên giống nhau"
      ]
    },
    {
      "cell_type": "code",
      "metadata": {
        "id": "wE9IT06FqhmY"
      },
      "source": [
        "trainX, testX, trainY, testY = train_test_split(trainX, trainY, \\\n",
        "                                                test_size=0.3, random_state=0)"
      ],
      "execution_count": null,
      "outputs": []
    },
    {
      "cell_type": "code",
      "metadata": {
        "id": "kdIIguD_QKOO"
      },
      "source": [
        "print('Total training images:', len(trainY))\n",
        "print_n_images_per_class(trainY)"
      ],
      "execution_count": null,
      "outputs": []
    },
    {
      "cell_type": "code",
      "metadata": {
        "colab": {
          "base_uri": "https://localhost:8080/"
        },
        "id": "OIt3Z03XSg__",
        "outputId": "9b313649-cef3-434c-c8e0-b72c8a956159"
      },
      "source": [
        "print('Total testing images:', len(trainY))\n",
        "print_n_images_per_class(testY)"
      ],
      "execution_count": null,
      "outputs": [
        {
          "output_type": "stream",
          "text": [
            "Total testing images: 73948\n",
            "Class 0 has 174 images\n",
            "Class 1 has 164 images\n",
            "Class 2 has 150 images\n",
            "Class 3 has 182 images\n",
            "Class 4 has 164 images\n",
            "Class 5 has 165 images\n",
            "Class 6 has 165 images\n",
            "Class 7 has 170 images\n",
            "Class 8 has 160 images\n",
            "Class 9 has 155 images\n",
            "Class 10 has 168 images\n",
            "Class 11 has 163 images\n",
            "Class 12 has 162 images\n",
            "Class 13 has 168 images\n",
            "Class 14 has 158 images\n",
            "Class 15 has 182 images\n",
            "Class 16 has 173 images\n",
            "Class 17 has 170 images\n",
            "Class 18 has 160 images\n",
            "Class 19 has 159 images\n",
            "Class 20 has 181 images\n",
            "Class 21 has 174 images\n",
            "Class 22 has 170 images\n",
            "Class 23 has 167 images\n",
            "Class 24 has 159 images\n",
            "Class 25 has 151 images\n",
            "Class 26 has 169 images\n",
            "Class 27 has 173 images\n",
            "Class 28 has 156 images\n",
            "Class 29 has 169 images\n",
            "Class 30 has 176 images\n",
            "Class 31 has 155 images\n",
            "Class 32 has 160 images\n",
            "Class 33 has 173 images\n",
            "Class 34 has 173 images\n",
            "Class 35 has 177 images\n",
            "Class 36 has 154 images\n",
            "Class 37 has 164 images\n",
            "Class 38 has 158 images\n",
            "Class 39 has 153 images\n",
            "Class 40 has 178 images\n",
            "Class 41 has 152 images\n",
            "Class 42 has 157 images\n",
            "Class 43 has 165 images\n",
            "Class 44 has 171 images\n",
            "Class 45 has 166 images\n",
            "Class 46 has 160 images\n",
            "Class 47 has 188 images\n",
            "Class 48 has 173 images\n",
            "Class 49 has 144 images\n",
            "Class 50 has 161 images\n",
            "Class 51 has 177 images\n",
            "Class 52 has 180 images\n",
            "Class 53 has 148 images\n",
            "Class 54 has 178 images\n",
            "Class 55 has 140 images\n",
            "Class 56 has 174 images\n",
            "Class 57 has 176 images\n",
            "Class 58 has 174 images\n",
            "Class 59 has 180 images\n",
            "Class 60 has 176 images\n",
            "Class 61 has 175 images\n",
            "Class 62 has 165 images\n",
            "Class 63 has 170 images\n",
            "Class 64 has 176 images\n",
            "Class 65 has 161 images\n",
            "Class 66 has 162 images\n",
            "Class 67 has 159 images\n",
            "Class 68 has 161 images\n",
            "Class 69 has 159 images\n",
            "Class 70 has 148 images\n",
            "Class 71 has 176 images\n",
            "Class 72 has 177 images\n",
            "Class 73 has 167 images\n",
            "Class 74 has 150 images\n",
            "Class 75 has 167 images\n",
            "Class 76 has 150 images\n",
            "Class 77 has 168 images\n",
            "Class 78 has 163 images\n",
            "Class 79 has 181 images\n",
            "Class 80 has 159 images\n",
            "Class 81 has 173 images\n",
            "Class 82 has 186 images\n",
            "Class 83 has 171 images\n",
            "Class 84 has 172 images\n",
            "Class 85 has 169 images\n",
            "Class 86 has 182 images\n",
            "Class 87 has 144 images\n",
            "Class 88 has 171 images\n",
            "Class 89 has 154 images\n",
            "Class 90 has 164 images\n",
            "Class 91 has 165 images\n",
            "Class 92 has 165 images\n",
            "Class 93 has 173 images\n",
            "Class 94 has 164 images\n",
            "Class 95 has 159 images\n",
            "Class 96 has 148 images\n",
            "Class 97 has 169 images\n",
            "Class 98 has 168 images\n",
            "Class 99 has 174 images\n",
            "Class 100 has 168 images\n",
            "Class 101 has 178 images\n",
            "Class 102 has 181 images\n",
            "Class 103 has 175 images\n",
            "Class 104 has 175 images\n",
            "Class 105 has 156 images\n",
            "Class 106 has 163 images\n",
            "Class 107 has 150 images\n",
            "Class 108 has 164 images\n",
            "Class 109 has 169 images\n",
            "Class 110 has 186 images\n",
            "Class 111 has 186 images\n",
            "Class 112 has 168 images\n",
            "Class 113 has 170 images\n",
            "Class 114 has 158 images\n",
            "Class 115 has 171 images\n",
            "Class 116 has 161 images\n",
            "Class 117 has 160 images\n",
            "Class 118 has 152 images\n",
            "Class 119 has 162 images\n",
            "Class 120 has 166 images\n",
            "Class 121 has 147 images\n",
            "Class 122 has 188 images\n",
            "Class 123 has 155 images\n",
            "Class 124 has 167 images\n",
            "Class 125 has 161 images\n",
            "Class 126 has 159 images\n",
            "Class 127 has 179 images\n",
            "Class 128 has 154 images\n",
            "Class 129 has 173 images\n",
            "Class 130 has 168 images\n",
            "Class 131 has 167 images\n",
            "Class 132 has 170 images\n",
            "Class 133 has 153 images\n",
            "Class 134 has 169 images\n",
            "Class 135 has 184 images\n",
            "Class 136 has 174 images\n",
            "Class 137 has 181 images\n",
            "Class 138 has 158 images\n",
            "Class 139 has 169 images\n",
            "Class 140 has 172 images\n",
            "Class 141 has 193 images\n",
            "Class 142 has 174 images\n",
            "Class 143 has 166 images\n",
            "Class 144 has 158 images\n",
            "Class 145 has 162 images\n",
            "Class 146 has 160 images\n",
            "Class 147 has 157 images\n",
            "Class 148 has 177 images\n",
            "Class 149 has 155 images\n",
            "Class 150 has 166 images\n",
            "Class 151 has 155 images\n",
            "Class 152 has 186 images\n",
            "Class 153 has 148 images\n",
            "Class 154 has 170 images\n",
            "Class 155 has 187 images\n",
            "Class 156 has 175 images\n",
            "Class 157 has 160 images\n",
            "Class 158 has 183 images\n",
            "Class 159 has 176 images\n",
            "Class 160 has 153 images\n",
            "Class 161 has 190 images\n",
            "Class 162 has 169 images\n",
            "Class 163 has 167 images\n",
            "Class 164 has 168 images\n",
            "Class 165 has 169 images\n",
            "Class 166 has 179 images\n",
            "Class 167 has 164 images\n",
            "Class 168 has 172 images\n",
            "Class 169 has 168 images\n",
            "Class 170 has 169 images\n",
            "Class 171 has 170 images\n",
            "Class 172 has 168 images\n",
            "Class 173 has 157 images\n",
            "Class 174 has 144 images\n",
            "Class 175 has 160 images\n",
            "Class 176 has 157 images\n",
            "Class 177 has 183 images\n",
            "Class 178 has 156 images\n",
            "Class 179 has 169 images\n",
            "Class 180 has 162 images\n",
            "Class 181 has 168 images\n",
            "Class 182 has 158 images\n",
            "Class 183 has 164 images\n",
            "Class 184 has 165 images\n",
            "Class 185 has 183 images\n",
            "Class 186 has 170 images\n",
            "Class 187 has 184 images\n",
            "Class 188 has 167 images\n",
            "Class 189 has 157 images\n",
            "The range of number of images: 140-193\n"
          ],
          "name": "stdout"
        }
      ]
    },
    {
      "cell_type": "markdown",
      "metadata": {
        "id": "WIuDMg0DOLB5"
      },
      "source": [
        "###Mã hóa one-hot cho các nhãn"
      ]
    },
    {
      "cell_type": "code",
      "metadata": {
        "id": "Tx_NIqjFOVWR"
      },
      "source": [
        "trainY = np_utils.to_categorical(trainY, nClasses)\n",
        "testY = np_utils.to_categorical(testY, nClasses)"
      ],
      "execution_count": null,
      "outputs": []
    },
    {
      "cell_type": "code",
      "metadata": {
        "colab": {
          "base_uri": "https://localhost:8080/"
        },
        "id": "lrLxSgHl4K82",
        "outputId": "04beb9f3-0ff0-49e2-abb4-454f2843fb4b"
      },
      "source": [
        "testY"
      ],
      "execution_count": null,
      "outputs": [
        {
          "output_type": "execute_result",
          "data": {
            "text/plain": [
              "array([[0., 0., 0., ..., 0., 0., 0.],\n",
              "       [0., 0., 0., ..., 0., 0., 0.],\n",
              "       [0., 0., 0., ..., 0., 0., 0.],\n",
              "       ...,\n",
              "       [0., 0., 0., ..., 0., 0., 0.],\n",
              "       [0., 0., 0., ..., 0., 0., 0.],\n",
              "       [0., 0., 0., ..., 0., 0., 0.]], dtype=float32)"
            ]
          },
          "metadata": {
            "tags": []
          },
          "execution_count": 27
        }
      ]
    },
    {
      "cell_type": "markdown",
      "metadata": {
        "id": "bcyN7XAvk-vl"
      },
      "source": [
        "### Khởi tạo model và thêm các tầng\n",
        "padding='valid': không dùng padding"
      ]
    },
    {
      "cell_type": "code",
      "metadata": {
        "id": "KB9P6xTcloQn"
      },
      "source": [
        "LEARNING_RATE = 1e-2 #0.01\n",
        "\n",
        "# Instantiate an empty model\n",
        "model = Sequential()\n",
        "\n",
        "# Convolutional Layer\n",
        "model.add(Conv2D(filters=6, kernel_size=(5, 5), strides=(1, 1), activation='tanh',input_shape=(32, 32, 1), padding='valid'))\n",
        "\n",
        "# Pooling Layer\n",
        "model.add(AveragePooling2D(pool_size=(2, 2), strides=(2, 2), padding='valid'))\n",
        "\n",
        "# Convolutional Layer\n",
        "model.add(Conv2D(filters=16, kernel_size=(5, 5), strides=(1, 1), activation='tanh', padding='valid'))\n",
        "\n",
        "# Pooling Layer\n",
        "model.add(AveragePooling2D(pool_size=(2, 2), strides=(2, 2), padding='valid'))\n",
        "\n",
        "# Fully Connected Layers\n",
        "model.add(Flatten())\n",
        "model.add(Dense(120, activation='tanh'))\n",
        "model.add(Dense(84, activation='tanh'))\n",
        "model.add(Dense(190, activation='softmax'))\n",
        "\n",
        "sgd = SGD(lr=LEARNING_RATE)\n",
        "\n",
        "# Compile the model\n",
        "model.compile(loss=keras.losses.categorical_crossentropy, optimizer=sgd, metrics=['accuracy'])"
      ],
      "execution_count": null,
      "outputs": []
    },
    {
      "cell_type": "code",
      "metadata": {
        "colab": {
          "base_uri": "https://localhost:8080/"
        },
        "id": "jZNjyYwJNXH1",
        "outputId": "1134a1f1-05fd-45c4-f9c2-657b4a820ccb"
      },
      "source": [
        "model.summary()"
      ],
      "execution_count": null,
      "outputs": [
        {
          "output_type": "stream",
          "text": [
            "Model: \"sequential\"\n",
            "_________________________________________________________________\n",
            "Layer (type)                 Output Shape              Param #   \n",
            "=================================================================\n",
            "conv2d (Conv2D)              (None, 28, 28, 6)         156       \n",
            "_________________________________________________________________\n",
            "average_pooling2d (AveragePo (None, 14, 14, 6)         0         \n",
            "_________________________________________________________________\n",
            "conv2d_1 (Conv2D)            (None, 10, 10, 16)        2416      \n",
            "_________________________________________________________________\n",
            "average_pooling2d_1 (Average (None, 5, 5, 16)          0         \n",
            "_________________________________________________________________\n",
            "flatten (Flatten)            (None, 400)               0         \n",
            "_________________________________________________________________\n",
            "dense (Dense)                (None, 120)               48120     \n",
            "_________________________________________________________________\n",
            "dense_1 (Dense)              (None, 84)                10164     \n",
            "_________________________________________________________________\n",
            "dense_2 (Dense)              (None, 190)               16150     \n",
            "=================================================================\n",
            "Total params: 77,006\n",
            "Trainable params: 77,006\n",
            "Non-trainable params: 0\n",
            "_________________________________________________________________\n"
          ],
          "name": "stdout"
        }
      ]
    },
    {
      "cell_type": "code",
      "metadata": {
        "colab": {
          "base_uri": "https://localhost:8080/"
        },
        "id": "egOsU6axM-ax",
        "outputId": "e40e89a0-3096-4602-a426-06f3155bdb83"
      },
      "source": [
        "EPOCHS = 100\n",
        "BATCH_SIZE = 32\n",
        "start = time()\n",
        "model.fit(\n",
        "    trainX, # training data\n",
        "    trainY, # training targets\n",
        "    epochs=EPOCHS,\n",
        "    batch_size=BATCH_SIZE\n",
        ")\n",
        "finish = time()\n",
        "print('Training time:', timedelta(seconds=finish-start))"
      ],
      "execution_count": null,
      "outputs": [
        {
          "output_type": "stream",
          "text": [
            "Epoch 1/100\n",
            "2311/2311 [==============================] - 7s 3ms/step - loss: 5.0116 - accuracy: 0.0250\n",
            "Epoch 2/100\n",
            "2311/2311 [==============================] - 7s 3ms/step - loss: 3.8798 - accuracy: 0.1450\n",
            "Epoch 3/100\n",
            "2311/2311 [==============================] - 7s 3ms/step - loss: 3.0983 - accuracy: 0.2775\n",
            "Epoch 4/100\n",
            "2311/2311 [==============================] - 7s 3ms/step - loss: 2.5879 - accuracy: 0.3710\n",
            "Epoch 5/100\n",
            "2311/2311 [==============================] - 7s 3ms/step - loss: 2.2111 - accuracy: 0.4477\n",
            "Epoch 6/100\n",
            "2311/2311 [==============================] - 7s 3ms/step - loss: 1.9231 - accuracy: 0.5101\n",
            "Epoch 7/100\n",
            "2311/2311 [==============================] - 7s 3ms/step - loss: 1.6954 - accuracy: 0.5613\n",
            "Epoch 8/100\n",
            "2311/2311 [==============================] - 7s 3ms/step - loss: 1.5094 - accuracy: 0.6090\n",
            "Epoch 9/100\n",
            "2311/2311 [==============================] - 7s 3ms/step - loss: 1.3538 - accuracy: 0.6493\n",
            "Epoch 10/100\n",
            "2311/2311 [==============================] - 8s 3ms/step - loss: 1.2242 - accuracy: 0.6822\n",
            "Epoch 11/100\n",
            "2311/2311 [==============================] - 7s 3ms/step - loss: 1.1138 - accuracy: 0.7121\n",
            "Epoch 12/100\n",
            "2311/2311 [==============================] - 7s 3ms/step - loss: 1.0199 - accuracy: 0.7371\n",
            "Epoch 13/100\n",
            "2311/2311 [==============================] - 7s 3ms/step - loss: 0.9392 - accuracy: 0.7577\n",
            "Epoch 14/100\n",
            "2311/2311 [==============================] - 7s 3ms/step - loss: 0.8681 - accuracy: 0.7762\n",
            "Epoch 15/100\n",
            "2311/2311 [==============================] - 7s 3ms/step - loss: 0.8058 - accuracy: 0.7937\n",
            "Epoch 16/100\n",
            "2311/2311 [==============================] - 7s 3ms/step - loss: 0.7519 - accuracy: 0.8066\n",
            "Epoch 17/100\n",
            "2311/2311 [==============================] - 7s 3ms/step - loss: 0.7026 - accuracy: 0.8207\n",
            "Epoch 18/100\n",
            "2311/2311 [==============================] - 7s 3ms/step - loss: 0.6596 - accuracy: 0.8321\n",
            "Epoch 19/100\n",
            "2311/2311 [==============================] - 7s 3ms/step - loss: 0.6211 - accuracy: 0.8413\n",
            "Epoch 20/100\n",
            "2311/2311 [==============================] - 7s 3ms/step - loss: 0.5857 - accuracy: 0.8496\n",
            "Epoch 21/100\n",
            "2311/2311 [==============================] - 8s 3ms/step - loss: 0.5539 - accuracy: 0.8587\n",
            "Epoch 22/100\n",
            "2311/2311 [==============================] - 7s 3ms/step - loss: 0.5259 - accuracy: 0.8661\n",
            "Epoch 23/100\n",
            "2311/2311 [==============================] - 7s 3ms/step - loss: 0.5003 - accuracy: 0.8737\n",
            "Epoch 24/100\n",
            "2311/2311 [==============================] - 7s 3ms/step - loss: 0.4767 - accuracy: 0.8796\n",
            "Epoch 25/100\n",
            "2311/2311 [==============================] - 7s 3ms/step - loss: 0.4549 - accuracy: 0.8850\n",
            "Epoch 26/100\n",
            "2311/2311 [==============================] - 7s 3ms/step - loss: 0.4361 - accuracy: 0.8902\n",
            "Epoch 27/100\n",
            "2311/2311 [==============================] - 7s 3ms/step - loss: 0.4178 - accuracy: 0.8952\n",
            "Epoch 28/100\n",
            "2311/2311 [==============================] - 7s 3ms/step - loss: 0.4010 - accuracy: 0.8996\n",
            "Epoch 29/100\n",
            "2311/2311 [==============================] - 7s 3ms/step - loss: 0.3854 - accuracy: 0.9047\n",
            "Epoch 30/100\n",
            "2311/2311 [==============================] - 7s 3ms/step - loss: 0.3706 - accuracy: 0.9077\n",
            "Epoch 31/100\n",
            "2311/2311 [==============================] - 7s 3ms/step - loss: 0.3578 - accuracy: 0.9114\n",
            "Epoch 32/100\n",
            "2311/2311 [==============================] - 7s 3ms/step - loss: 0.3453 - accuracy: 0.9144\n",
            "Epoch 33/100\n",
            "2311/2311 [==============================] - 7s 3ms/step - loss: 0.3338 - accuracy: 0.9175\n",
            "Epoch 34/100\n",
            "2311/2311 [==============================] - 7s 3ms/step - loss: 0.3238 - accuracy: 0.9191\n",
            "Epoch 35/100\n",
            "2311/2311 [==============================] - 7s 3ms/step - loss: 0.3131 - accuracy: 0.9224\n",
            "Epoch 36/100\n",
            "2311/2311 [==============================] - 7s 3ms/step - loss: 0.3037 - accuracy: 0.9258\n",
            "Epoch 37/100\n",
            "2311/2311 [==============================] - 7s 3ms/step - loss: 0.2947 - accuracy: 0.9272\n",
            "Epoch 38/100\n",
            "2311/2311 [==============================] - 7s 3ms/step - loss: 0.2863 - accuracy: 0.9295\n",
            "Epoch 39/100\n",
            "2311/2311 [==============================] - 7s 3ms/step - loss: 0.2786 - accuracy: 0.9320\n",
            "Epoch 40/100\n",
            "2311/2311 [==============================] - 7s 3ms/step - loss: 0.2710 - accuracy: 0.9333\n",
            "Epoch 41/100\n",
            "2311/2311 [==============================] - 7s 3ms/step - loss: 0.2637 - accuracy: 0.9353\n",
            "Epoch 42/100\n",
            "2311/2311 [==============================] - 7s 3ms/step - loss: 0.2569 - accuracy: 0.9372\n",
            "Epoch 43/100\n",
            "2311/2311 [==============================] - 7s 3ms/step - loss: 0.2507 - accuracy: 0.9384\n",
            "Epoch 44/100\n",
            "2311/2311 [==============================] - 7s 3ms/step - loss: 0.2438 - accuracy: 0.9405\n",
            "Epoch 45/100\n",
            "2311/2311 [==============================] - 7s 3ms/step - loss: 0.2389 - accuracy: 0.9415\n",
            "Epoch 46/100\n",
            "2311/2311 [==============================] - 7s 3ms/step - loss: 0.2329 - accuracy: 0.9435\n",
            "Epoch 47/100\n",
            "2311/2311 [==============================] - 7s 3ms/step - loss: 0.2272 - accuracy: 0.9449\n",
            "Epoch 48/100\n",
            "2311/2311 [==============================] - 7s 3ms/step - loss: 0.2222 - accuracy: 0.9461\n",
            "Epoch 49/100\n",
            "2311/2311 [==============================] - 7s 3ms/step - loss: 0.2172 - accuracy: 0.9475\n",
            "Epoch 50/100\n",
            "2311/2311 [==============================] - 7s 3ms/step - loss: 0.2128 - accuracy: 0.9490\n",
            "Epoch 51/100\n",
            "2311/2311 [==============================] - 7s 3ms/step - loss: 0.2084 - accuracy: 0.9491\n",
            "Epoch 52/100\n",
            "2311/2311 [==============================] - 7s 3ms/step - loss: 0.2038 - accuracy: 0.9507\n",
            "Epoch 53/100\n",
            "2311/2311 [==============================] - 7s 3ms/step - loss: 0.1993 - accuracy: 0.9517\n",
            "Epoch 54/100\n",
            "2311/2311 [==============================] - 8s 3ms/step - loss: 0.1949 - accuracy: 0.9532\n",
            "Epoch 55/100\n",
            "2311/2311 [==============================] - 8s 3ms/step - loss: 0.1914 - accuracy: 0.9543\n",
            "Epoch 56/100\n",
            "2311/2311 [==============================] - 7s 3ms/step - loss: 0.1879 - accuracy: 0.9552\n",
            "Epoch 57/100\n",
            "2311/2311 [==============================] - 7s 3ms/step - loss: 0.1841 - accuracy: 0.9553\n",
            "Epoch 58/100\n",
            "2311/2311 [==============================] - 7s 3ms/step - loss: 0.1804 - accuracy: 0.9569\n",
            "Epoch 59/100\n",
            "2311/2311 [==============================] - 7s 3ms/step - loss: 0.1766 - accuracy: 0.9575\n",
            "Epoch 60/100\n",
            "2311/2311 [==============================] - 7s 3ms/step - loss: 0.1731 - accuracy: 0.9586\n",
            "Epoch 61/100\n",
            "2311/2311 [==============================] - 7s 3ms/step - loss: 0.1704 - accuracy: 0.9593\n",
            "Epoch 62/100\n",
            "2311/2311 [==============================] - 7s 3ms/step - loss: 0.1665 - accuracy: 0.9609\n",
            "Epoch 63/100\n",
            "2311/2311 [==============================] - 7s 3ms/step - loss: 0.1641 - accuracy: 0.9610\n",
            "Epoch 64/100\n",
            "2311/2311 [==============================] - 8s 3ms/step - loss: 0.1614 - accuracy: 0.9618\n",
            "Epoch 65/100\n",
            "2311/2311 [==============================] - 7s 3ms/step - loss: 0.1583 - accuracy: 0.9630\n",
            "Epoch 66/100\n",
            "2311/2311 [==============================] - 7s 3ms/step - loss: 0.1557 - accuracy: 0.9631\n",
            "Epoch 67/100\n",
            "2311/2311 [==============================] - 7s 3ms/step - loss: 0.1529 - accuracy: 0.9640\n",
            "Epoch 68/100\n",
            "2311/2311 [==============================] - 8s 3ms/step - loss: 0.1503 - accuracy: 0.9647\n",
            "Epoch 69/100\n",
            "2311/2311 [==============================] - 7s 3ms/step - loss: 0.1477 - accuracy: 0.9657\n",
            "Epoch 70/100\n",
            "2311/2311 [==============================] - 7s 3ms/step - loss: 0.1454 - accuracy: 0.9657\n",
            "Epoch 71/100\n",
            "2311/2311 [==============================] - 7s 3ms/step - loss: 0.1430 - accuracy: 0.9666\n",
            "Epoch 72/100\n",
            "2311/2311 [==============================] - 7s 3ms/step - loss: 0.1401 - accuracy: 0.9676\n",
            "Epoch 73/100\n",
            "2311/2311 [==============================] - 7s 3ms/step - loss: 0.1384 - accuracy: 0.9678\n",
            "Epoch 74/100\n",
            "2311/2311 [==============================] - 7s 3ms/step - loss: 0.1361 - accuracy: 0.9685\n",
            "Epoch 75/100\n",
            "2311/2311 [==============================] - 7s 3ms/step - loss: 0.1338 - accuracy: 0.9693\n",
            "Epoch 76/100\n",
            "2311/2311 [==============================] - 7s 3ms/step - loss: 0.1318 - accuracy: 0.9698\n",
            "Epoch 77/100\n",
            "2311/2311 [==============================] - 7s 3ms/step - loss: 0.1300 - accuracy: 0.9704\n",
            "Epoch 78/100\n",
            "2311/2311 [==============================] - 7s 3ms/step - loss: 0.1278 - accuracy: 0.9704\n",
            "Epoch 79/100\n",
            "2311/2311 [==============================] - 8s 3ms/step - loss: 0.1261 - accuracy: 0.9713\n",
            "Epoch 80/100\n",
            "2311/2311 [==============================] - 7s 3ms/step - loss: 0.1238 - accuracy: 0.9721\n",
            "Epoch 81/100\n",
            "2311/2311 [==============================] - 7s 3ms/step - loss: 0.1224 - accuracy: 0.9722\n",
            "Epoch 82/100\n",
            "2311/2311 [==============================] - 7s 3ms/step - loss: 0.1205 - accuracy: 0.9728\n",
            "Epoch 83/100\n",
            "2311/2311 [==============================] - 7s 3ms/step - loss: 0.1188 - accuracy: 0.9731\n",
            "Epoch 84/100\n",
            "2311/2311 [==============================] - 7s 3ms/step - loss: 0.1170 - accuracy: 0.9735\n",
            "Epoch 85/100\n",
            "2311/2311 [==============================] - 7s 3ms/step - loss: 0.1156 - accuracy: 0.9738\n",
            "Epoch 86/100\n",
            "2311/2311 [==============================] - 7s 3ms/step - loss: 0.1135 - accuracy: 0.9748\n",
            "Epoch 87/100\n",
            "2311/2311 [==============================] - 7s 3ms/step - loss: 0.1121 - accuracy: 0.9745\n",
            "Epoch 88/100\n",
            "2311/2311 [==============================] - 7s 3ms/step - loss: 0.1109 - accuracy: 0.9751\n",
            "Epoch 89/100\n",
            "2311/2311 [==============================] - 7s 3ms/step - loss: 0.1092 - accuracy: 0.9757\n",
            "Epoch 90/100\n",
            "2311/2311 [==============================] - 7s 3ms/step - loss: 0.1077 - accuracy: 0.9759\n",
            "Epoch 91/100\n",
            "2311/2311 [==============================] - 7s 3ms/step - loss: 0.1061 - accuracy: 0.9761\n",
            "Epoch 92/100\n",
            "2311/2311 [==============================] - 7s 3ms/step - loss: 0.1050 - accuracy: 0.9768\n",
            "Epoch 93/100\n",
            "2311/2311 [==============================] - 7s 3ms/step - loss: 0.1034 - accuracy: 0.9768\n",
            "Epoch 94/100\n",
            "2311/2311 [==============================] - 7s 3ms/step - loss: 0.1022 - accuracy: 0.9770\n",
            "Epoch 95/100\n",
            "2311/2311 [==============================] - 7s 3ms/step - loss: 0.1005 - accuracy: 0.9785\n",
            "Epoch 96/100\n",
            "2311/2311 [==============================] - 7s 3ms/step - loss: 0.0992 - accuracy: 0.9782\n",
            "Epoch 97/100\n",
            "2311/2311 [==============================] - 8s 3ms/step - loss: 0.0988 - accuracy: 0.9785\n",
            "Epoch 98/100\n",
            "2311/2311 [==============================] - 8s 4ms/step - loss: 0.0969 - accuracy: 0.9786\n",
            "Epoch 99/100\n",
            "2311/2311 [==============================] - 7s 3ms/step - loss: 0.0961 - accuracy: 0.9791\n",
            "Epoch 100/100\n",
            "2311/2311 [==============================] - 7s 3ms/step - loss: 0.0950 - accuracy: 0.9795\n",
            "Training time: 0:11:58.561119\n"
          ],
          "name": "stdout"
        }
      ]
    },
    {
      "cell_type": "markdown",
      "metadata": {
        "id": "LY7_l62dq75Y"
      },
      "source": [
        "### Lưu lại model sau khi train"
      ]
    },
    {
      "cell_type": "code",
      "metadata": {
        "id": "vpCQIrVGpRTO"
      },
      "source": [
        "modelName = 'model.h5'\n",
        "model.save('/content/drive/MyDrive/Colab Notebooks/model_deep_learning/' + modelName)"
      ],
      "execution_count": null,
      "outputs": []
    },
    {
      "cell_type": "markdown",
      "metadata": {
        "id": "zUAQsIuMrTLG"
      },
      "source": [
        "### Load model đã lưu và predict"
      ]
    },
    {
      "cell_type": "code",
      "metadata": {
        "id": "8szg_-oSrbHG"
      },
      "source": [
        "modelName = 'model.h5'\n",
        "model = load_model('/content/drive/MyDrive/Colab Notebooks/model_deep_learning/' + modelName)"
      ],
      "execution_count": null,
      "outputs": []
    },
    {
      "cell_type": "code",
      "metadata": {
        "colab": {
          "base_uri": "https://localhost:8080/"
        },
        "id": "MkpPlXtZrw2E",
        "outputId": "d89ec3b2-3cf1-47c9-c1fb-e18c737743b3"
      },
      "source": [
        "start = time()\n",
        "predY = model.predict(testX)\n",
        "finish = time()\n",
        "print('Predicing time:', timedelta(seconds=finish-start))"
      ],
      "execution_count": null,
      "outputs": [
        {
          "output_type": "stream",
          "text": [
            "Predicing time: 0:00:01.019503\n"
          ],
          "name": "stdout"
        }
      ]
    },
    {
      "cell_type": "markdown",
      "metadata": {
        "id": "rBZZoWE4sody"
      },
      "source": [
        "Chuyển nhãn từ dạng one-hot về dạng số"
      ]
    },
    {
      "cell_type": "code",
      "metadata": {
        "id": "7WEkJqcBRKf6"
      },
      "source": [
        "testY = testY.argmax(axis=1)"
      ],
      "execution_count": null,
      "outputs": []
    },
    {
      "cell_type": "code",
      "metadata": {
        "id": "l0HOsS-msyGt"
      },
      "source": [
        "predY = predY.argmax(axis=1)"
      ],
      "execution_count": null,
      "outputs": []
    },
    {
      "cell_type": "markdown",
      "metadata": {
        "id": "LRndTxFEs9yq"
      },
      "source": [
        "###Độ chính xác khi dự đoán\n",
        "\n"
      ]
    },
    {
      "cell_type": "code",
      "metadata": {
        "colab": {
          "base_uri": "https://localhost:8080/"
        },
        "id": "zU_u7TNQtBFf",
        "outputId": "92996c33-bd77-4670-a882-762e24d94581"
      },
      "source": [
        "print(accuracy_score(testY, predY))"
      ],
      "execution_count": null,
      "outputs": [
        {
          "output_type": "stream",
          "text": [
            "0.9592957213176827\n"
          ],
          "name": "stdout"
        }
      ]
    },
    {
      "cell_type": "markdown",
      "metadata": {
        "id": "7EZDrG6YsTgq"
      },
      "source": [
        "###Load nhãn ký tự cho các lớp trong file csv\n",
        "chars: list chứa các kí tự<br>\n",
        "labels: dictionary với key là kí tự, value là nhãn lớp"
      ]
    },
    {
      "cell_type": "code",
      "metadata": {
        "id": "BoL1NEUBsWyf"
      },
      "source": [
        "nClasses = 190\n",
        "labelNames = open('/content/drive/MyDrive/Data/vi.characters.csv', encoding='utf-8').read().strip().split('\\n')\n",
        "labelNames = [label.split(',', 1)[0] + '.' + label.split(',', 1)[1] for label in labelNames]\n",
        "chars = [label.split('.', 1)[1] for label in labelNames]\n",
        "labels = {chars[i]: i for i in range(nClasses)}"
      ],
      "execution_count": null,
      "outputs": []
    },
    {
      "cell_type": "code",
      "metadata": {
        "id": "bJ9ILVLzqD8G",
        "colab": {
          "base_uri": "https://localhost:8080/"
        },
        "outputId": "b30b276a-04fe-417a-f4be-6b48c84f65e7"
      },
      "source": [
        "labelNames[:10]"
      ],
      "execution_count": null,
      "outputs": [
        {
          "output_type": "execute_result",
          "data": {
            "text/plain": [
              "['0.a', '1.à', '2.ả', '3.ã', '4.á', '5.ạ', '6.ă', '7.ằ', '8.ẳ', '9.ẵ']"
            ]
          },
          "metadata": {
            "tags": []
          },
          "execution_count": 39
        }
      ]
    },
    {
      "cell_type": "code",
      "metadata": {
        "id": "mOw5ktBntRAl",
        "colab": {
          "base_uri": "https://localhost:8080/"
        },
        "outputId": "a023e382-40f9-4ae5-c24c-7d6986f8fa95"
      },
      "source": [
        "labels"
      ],
      "execution_count": null,
      "outputs": [
        {
          "output_type": "execute_result",
          "data": {
            "text/plain": [
              "{'!': 188,\n",
              " ',': 186,\n",
              " '.': 187,\n",
              " '0': 176,\n",
              " '1': 177,\n",
              " '2': 178,\n",
              " '3': 179,\n",
              " '4': 180,\n",
              " '5': 181,\n",
              " '6': 182,\n",
              " '7': 183,\n",
              " '8': 184,\n",
              " '9': 185,\n",
              " '?': 189,\n",
              " 'A': 88,\n",
              " 'B': 106,\n",
              " 'C': 107,\n",
              " 'D': 108,\n",
              " 'E': 110,\n",
              " 'F': 122,\n",
              " 'G': 123,\n",
              " 'H': 124,\n",
              " 'I': 125,\n",
              " 'J': 131,\n",
              " 'K': 132,\n",
              " 'L': 133,\n",
              " 'N': 134,\n",
              " 'O': 135,\n",
              " 'P': 153,\n",
              " 'Q': 154,\n",
              " 'U': 155,\n",
              " 'V': 167,\n",
              " 'W': 168,\n",
              " 'X': 169,\n",
              " 'Y': 170,\n",
              " 'a': 0,\n",
              " 'b': 18,\n",
              " 'c': 19,\n",
              " 'd': 20,\n",
              " 'e': 22,\n",
              " 'f': 34,\n",
              " 'g': 35,\n",
              " 'h': 36,\n",
              " 'i': 37,\n",
              " 'j': 43,\n",
              " 'k': 44,\n",
              " 'l': 45,\n",
              " 'n': 46,\n",
              " 'o': 47,\n",
              " 'p': 65,\n",
              " 'q': 66,\n",
              " 'u': 67,\n",
              " 'v': 79,\n",
              " 'w': 80,\n",
              " 'x': 81,\n",
              " 'y': 82,\n",
              " 'À': 89,\n",
              " 'Á': 92,\n",
              " 'Â': 100,\n",
              " 'Ã': 91,\n",
              " 'È': 111,\n",
              " 'É': 114,\n",
              " 'Ê': 116,\n",
              " 'Ì': 126,\n",
              " 'Í': 129,\n",
              " 'Ò': 136,\n",
              " 'Ó': 139,\n",
              " 'Ô': 141,\n",
              " 'Õ': 138,\n",
              " 'Ù': 156,\n",
              " 'Ú': 159,\n",
              " 'Ý': 174,\n",
              " 'à': 1,\n",
              " 'á': 4,\n",
              " 'â': 12,\n",
              " 'ã': 3,\n",
              " 'è': 23,\n",
              " 'é': 26,\n",
              " 'ê': 28,\n",
              " 'ì': 38,\n",
              " 'í': 41,\n",
              " 'ò': 48,\n",
              " 'ó': 51,\n",
              " 'ô': 53,\n",
              " 'õ': 50,\n",
              " 'ù': 68,\n",
              " 'ú': 71,\n",
              " 'ý': 86,\n",
              " 'Ă': 94,\n",
              " 'ă': 6,\n",
              " 'Đ': 109,\n",
              " 'đ': 21,\n",
              " 'Ĩ': 128,\n",
              " 'ĩ': 40,\n",
              " 'Ũ': 158,\n",
              " 'ũ': 70,\n",
              " 'Ơ': 147,\n",
              " 'ơ': 59,\n",
              " 'Ư': 161,\n",
              " 'ư': 73,\n",
              " 'Ạ': 93,\n",
              " 'ạ': 5,\n",
              " 'Ả': 90,\n",
              " 'ả': 2,\n",
              " 'Ấ': 104,\n",
              " 'ấ': 16,\n",
              " 'Ầ': 101,\n",
              " 'ầ': 13,\n",
              " 'Ẩ': 102,\n",
              " 'ẩ': 14,\n",
              " 'Ẫ': 103,\n",
              " 'ẫ': 15,\n",
              " 'Ậ': 105,\n",
              " 'ậ': 17,\n",
              " 'Ắ': 98,\n",
              " 'ắ': 10,\n",
              " 'Ằ': 95,\n",
              " 'ằ': 7,\n",
              " 'Ẳ': 96,\n",
              " 'ẳ': 8,\n",
              " 'Ẵ': 97,\n",
              " 'ẵ': 9,\n",
              " 'Ặ': 99,\n",
              " 'ặ': 11,\n",
              " 'Ẹ': 115,\n",
              " 'ẹ': 27,\n",
              " 'Ẻ': 112,\n",
              " 'ẻ': 24,\n",
              " 'Ẽ': 113,\n",
              " 'ẽ': 25,\n",
              " 'Ế': 120,\n",
              " 'ế': 32,\n",
              " 'Ề': 117,\n",
              " 'ề': 29,\n",
              " 'Ể': 118,\n",
              " 'ể': 30,\n",
              " 'Ễ': 119,\n",
              " 'ễ': 31,\n",
              " 'Ệ': 121,\n",
              " 'ệ': 33,\n",
              " 'Ỉ': 127,\n",
              " 'ỉ': 39,\n",
              " 'Ị': 130,\n",
              " 'ị': 42,\n",
              " 'Ọ': 140,\n",
              " 'ọ': 52,\n",
              " 'Ỏ': 137,\n",
              " 'ỏ': 49,\n",
              " 'Ố': 145,\n",
              " 'ố': 57,\n",
              " 'Ồ': 142,\n",
              " 'ồ': 54,\n",
              " 'Ổ': 143,\n",
              " 'ổ': 55,\n",
              " 'Ỗ': 144,\n",
              " 'ỗ': 56,\n",
              " 'Ộ': 146,\n",
              " 'ộ': 58,\n",
              " 'Ớ': 151,\n",
              " 'ớ': 63,\n",
              " 'Ờ': 148,\n",
              " 'ờ': 60,\n",
              " 'Ở': 149,\n",
              " 'ở': 61,\n",
              " 'Ỡ': 150,\n",
              " 'ỡ': 62,\n",
              " 'Ợ': 152,\n",
              " 'ợ': 64,\n",
              " 'Ụ': 160,\n",
              " 'ụ': 72,\n",
              " 'Ủ': 157,\n",
              " 'ủ': 69,\n",
              " 'Ứ': 165,\n",
              " 'ứ': 77,\n",
              " 'Ừ': 162,\n",
              " 'ừ': 74,\n",
              " 'Ử': 163,\n",
              " 'ử': 75,\n",
              " 'Ữ': 164,\n",
              " 'ữ': 76,\n",
              " 'Ự': 166,\n",
              " 'ự': 78,\n",
              " 'Ỳ': 171,\n",
              " 'ỳ': 83,\n",
              " 'Ỵ': 175,\n",
              " 'ỵ': 87,\n",
              " 'Ỷ': 172,\n",
              " 'ỷ': 84,\n",
              " 'Ỹ': 173,\n",
              " 'ỹ': 85}"
            ]
          },
          "metadata": {
            "tags": []
          },
          "execution_count": 40
        }
      ]
    },
    {
      "cell_type": "code",
      "metadata": {
        "id": "94bkuLkXyye7",
        "colab": {
          "base_uri": "https://localhost:8080/"
        },
        "outputId": "7cdfb41b-8234-4290-b6d6-46f390d29368"
      },
      "source": [
        "chars[:10]"
      ],
      "execution_count": null,
      "outputs": [
        {
          "output_type": "execute_result",
          "data": {
            "text/plain": [
              "['a', 'à', 'ả', 'ã', 'á', 'ạ', 'ă', 'ằ', 'ẳ', 'ẵ']"
            ]
          },
          "metadata": {
            "tags": []
          },
          "execution_count": 41
        }
      ]
    },
    {
      "cell_type": "markdown",
      "metadata": {
        "id": "j4Z5MMeOtdtv"
      },
      "source": [
        "###Confusion Matrix\n",
        "Các hàng là các nhãn lớp đúng, các cột là các nhãn lớp dự đoán"
      ]
    },
    {
      "cell_type": "code",
      "metadata": {
        "id": "0X4wQJDpwpwh"
      },
      "source": [
        "cnf_matrix = confusion_matrix(testY, predY, normalize=None)"
      ],
      "execution_count": null,
      "outputs": []
    },
    {
      "cell_type": "code",
      "metadata": {
        "id": "vUsmGWkPxWw5",
        "colab": {
          "base_uri": "https://localhost:8080/"
        },
        "outputId": "192afd5a-f3ef-46db-8b51-61137b1fc1dd"
      },
      "source": [
        "cnf_matrix"
      ],
      "execution_count": null,
      "outputs": [
        {
          "output_type": "execute_result",
          "data": {
            "text/plain": [
              "array([[172,   1,   0, ...,   0,   0,   0],\n",
              "       [  0, 162,   0, ...,   0,   0,   0],\n",
              "       [  0,   0, 143, ...,   0,   0,   0],\n",
              "       ...,\n",
              "       [  0,   0,   0, ..., 180,   0,   0],\n",
              "       [  0,   0,   0, ...,   0, 159,   0],\n",
              "       [  0,   0,   0, ...,   0,   0, 154]])"
            ]
          },
          "metadata": {
            "tags": []
          },
          "execution_count": 43
        }
      ]
    },
    {
      "cell_type": "markdown",
      "metadata": {
        "id": "BEvoggzb2M-o"
      },
      "source": [
        "###Số ảnh bị sai theo mỗi lớp tính bằng Confusion Matrix"
      ]
    },
    {
      "cell_type": "code",
      "metadata": {
        "id": "YmgWsmhw2MKR"
      },
      "source": [
        "def sortByValue(d):\n",
        "    '''\n",
        "    sort a dictionary by values\n",
        "    '''\n",
        "    return sorted(nErrorPerClass.items(), key = lambda kv:(kv[1], kv[0]), reverse=True)"
      ],
      "execution_count": null,
      "outputs": []
    },
    {
      "cell_type": "code",
      "metadata": {
        "id": "qeahZ0lR2AKt"
      },
      "source": [
        "nClasses = 190\n",
        "error = dict()\n",
        "for i in range(nClasses):\n",
        "    error[chars[i]] = dict()"
      ],
      "execution_count": null,
      "outputs": []
    },
    {
      "cell_type": "code",
      "metadata": {
        "id": "5BsM0CSTzHLH"
      },
      "source": [
        "nError = 0\n",
        "nClasses = 190\n",
        "nErrorPerClass = dict()\n",
        "for i in range(nClasses):\n",
        "    nErrorPerClass[chars[i]] = 0\n",
        "    for j in range(nClasses):\n",
        "        if i != j and cnf_matrix[i][j] > 0:\n",
        "            errorij = cnf_matrix[i][j]\n",
        "            nError += errorij\n",
        "            nErrorPerClass[chars[i]] += errorij\n",
        "            error[chars[i]][chars[j]] = errorij"
      ],
      "execution_count": null,
      "outputs": []
    },
    {
      "cell_type": "markdown",
      "metadata": {
        "id": "m4arf03c15Pa"
      },
      "source": [
        "Tổng số ảnh bị sai là tổng các phần tử không nằm trên đường chéo chính của ma trận"
      ]
    },
    {
      "cell_type": "code",
      "metadata": {
        "id": "Bwqksy9N3AXa",
        "colab": {
          "base_uri": "https://localhost:8080/"
        },
        "outputId": "76a84d4e-375d-40d9-c0ea-fac134505e78"
      },
      "source": [
        "nError"
      ],
      "execution_count": null,
      "outputs": [
        {
          "output_type": "execute_result",
          "data": {
            "text/plain": [
              "1290"
            ]
          },
          "metadata": {
            "tags": []
          },
          "execution_count": 47
        }
      ]
    },
    {
      "cell_type": "markdown",
      "metadata": {
        "id": "QmeAN9TdveiS"
      },
      "source": [
        "Số ảnh bị dự đoán sai của mỗi lớp theo thứ tự giảm dần"
      ]
    },
    {
      "cell_type": "code",
      "metadata": {
        "id": "kZVMiQUbx3Gq",
        "colab": {
          "base_uri": "https://localhost:8080/"
        },
        "outputId": "ec97ddac-35e6-4bc2-de3a-ce67a25a72f2"
      },
      "source": [
        "print(sortByValue(nErrorPerClass))"
      ],
      "execution_count": null,
      "outputs": [
        {
          "output_type": "stream",
          "text": [
            "[('I', 47), ('Ấ', 40), ('O', 37), ('Ắ', 31), ('Ẵ', 29), ('Ề', 28), ('Ẩ', 28), ('0', 26), ('Ố', 25), ('Ế', 25), ('Ổ', 24), ('ầ', 22), ('Ồ', 21), ('Ể', 21), ('ố', 20), ('Ẫ', 20), ('Ầ', 20), ('l', 20), ('ẵ', 18), ('ấ', 18), ('ồ', 17), ('ẫ', 17), ('ề', 16), ('Ẳ', 15), ('y', 15), ('ẩ', 14), ('Ã', 14), ('ổ', 13), ('ế', 13), ('Ỏ', 12), ('ĩ', 12), ('ỵ', 11), ('Ị', 11), ('ỷ', 10), ('Ự', 10), ('Ằ', 10), ('Ă', 10), ('p', 10), ('Ử', 9), ('ị', 9), ('ẳ', 9), ('i', 9), ('Ờ', 8), ('ể', 8), ('ắ', 8), ('Đ', 8), ('!', 8), ('Ợ', 7), ('Ở', 7), ('Ớ', 7), ('ỉ', 7), ('Ễ', 7), ('ả', 7), ('ã', 7), ('É', 7), ('j', 7), ('Q', 7), ('1', 7), ('Ỗ', 6), ('Ỉ', 6), ('Ẻ', 6), ('Ặ', 6), ('Ê', 6), ('g', 6), ('Ỷ', 5), ('ử', 5), ('Ừ', 5), ('Ứ', 5), ('ợ', 5), ('ỡ', 5), ('Ộ', 5), ('Ọ', 5), ('ằ', 5), ('Ĩ', 5), ('ô', 5), ('â', 5), ('Í', 5), ('Ì', 5), ('È', 5), ('À', 5), ('x', 5), ('V', 5), ('J', 5), ('ỹ', 4), ('Ỳ', 4), ('ự', 4), ('Ữ', 4), ('ủ', 4), ('Ụ', 4), ('ờ', 4), ('Ả', 4), ('ạ', 4), ('ư', 4), ('Ư', 4), ('đ', 4), ('õ', 4), ('á', 4), ('Ó', 4), ('o', 4), ('f', 4), ('d', 4), ('D', 4), ('9', 4), ('.', 4), ('Ỵ', 3), ('ỳ', 3), ('ữ', 3), ('Ủ', 3), ('Ỡ', 3), ('ở', 3), ('ớ', 3), ('Ệ', 3), ('Ẽ', 3), ('ặ', 3), ('ậ', 3), ('Ậ', 3), ('Ạ', 3), ('Ơ', 3), ('ì', 3), ('Ù', 3), ('Ô', 3), ('Â', 3), ('v', 3), ('b', 3), ('X', 3), ('P', 3), ('L', 3), ('G', 3), ('C', 3), ('B', 3), ('?', 3), ('8', 3), ('6', 3), ('4', 3), ('ừ', 2), ('ứ', 2), ('ụ', 2), ('ỏ', 2), ('ọ', 2), ('Ẹ', 2), ('ơ', 2), ('ũ', 2), ('Ũ', 2), ('ă', 2), ('ý', 2), ('ù', 2), ('ò', 2), ('ê', 2), ('è', 2), ('à', 2), ('Ú', 2), ('Õ', 2), ('Ò', 2), ('Á', 2), ('w', 2), ('n', 2), ('h', 2), ('a', 2), ('Y', 2), ('W', 2), ('U', 2), ('N', 2), ('F', 2), ('7', 2), ('2', 2), (',', 2), ('ộ', 1), ('ỗ', 1), ('ệ', 1), ('ễ', 1), ('ẽ', 1), ('ẻ', 1), ('ẹ', 1), ('ó', 1), ('é', 1), ('Ý', 1), ('u', 1), ('k', 1), ('e', 1), ('c', 1), ('K', 1), ('E', 1), ('A', 1), ('5', 1), ('Ỹ', 0), ('ú', 0), ('í', 0), ('q', 0), ('H', 0), ('3', 0)]\n"
          ],
          "name": "stdout"
        }
      ]
    },
    {
      "cell_type": "code",
      "metadata": {
        "id": "hezRmhnR3IWQ",
        "colab": {
          "base_uri": "https://localhost:8080/"
        },
        "outputId": "5d189a63-e7bd-40d7-cb83-4578422c8ed4"
      },
      "source": [
        "error['0']"
      ],
      "execution_count": null,
      "outputs": [
        {
          "output_type": "execute_result",
          "data": {
            "text/plain": [
              "{'O': 11, 'o': 13, 'Ợ': 2}"
            ]
          },
          "metadata": {
            "tags": []
          },
          "execution_count": 49
        }
      ]
    },
    {
      "cell_type": "markdown",
      "metadata": {
        "id": "CGpkEhNNxETD"
      },
      "source": [
        "Confusion Matrix Chuẩn hóa<br>\n",
        "Confusion Matrix Chuẩn hóa thể hiện tỉ lệ ảnh được dự đoán đúng, sai so với tổng số ảnh của lớp đó. Tỉ lệ này thể hiện rõ hơn độ chính xác giữa các lớp, so với khi chưa chuẩn hóa, các lớp có tổng số lượng ảnh khác nhau, nhưng không thể hiện rõ trong ma trận. Khi chưa chuẩn hóa, số lượng ảnh dự đoán đúng (trên đường chéo chính) bằng nhau nhưng độ chính xác có thể khác nhau."
      ]
    },
    {
      "cell_type": "code",
      "metadata": {
        "id": "JRJOf_QYxLJt"
      },
      "source": [
        "norm_cnf_matrix = cnf_matrix = confusion_matrix(testY, predY, normalize='true')"
      ],
      "execution_count": null,
      "outputs": []
    },
    {
      "cell_type": "code",
      "metadata": {
        "id": "3_-QSasf3wlg",
        "colab": {
          "base_uri": "https://localhost:8080/"
        },
        "outputId": "2a47e0d4-0123-4cf5-e01b-a937259b3ea2"
      },
      "source": [
        "norm_cnf_matrix"
      ],
      "execution_count": null,
      "outputs": [
        {
          "output_type": "execute_result",
          "data": {
            "text/plain": [
              "array([[0.98850575, 0.00574713, 0.        , ..., 0.        , 0.        ,\n",
              "        0.        ],\n",
              "       [0.        , 0.98780488, 0.        , ..., 0.        , 0.        ,\n",
              "        0.        ],\n",
              "       [0.        , 0.        , 0.95333333, ..., 0.        , 0.        ,\n",
              "        0.        ],\n",
              "       ...,\n",
              "       [0.        , 0.        , 0.        , ..., 0.97826087, 0.        ,\n",
              "        0.        ],\n",
              "       [0.        , 0.        , 0.        , ..., 0.        , 0.95209581,\n",
              "        0.        ],\n",
              "       [0.        , 0.        , 0.        , ..., 0.        , 0.        ,\n",
              "        0.98089172]])"
            ]
          },
          "metadata": {
            "tags": []
          },
          "execution_count": 51
        }
      ]
    },
    {
      "cell_type": "markdown",
      "metadata": {
        "id": "pqhb2g21MBa2"
      },
      "source": [
        "### Hiển thị các ảnh sai của 1 lớp"
      ]
    },
    {
      "cell_type": "code",
      "metadata": {
        "id": "Sa_hwYV24IWF",
        "colab": {
          "base_uri": "https://localhost:8080/",
          "height": 504
        },
        "outputId": "89cc3b69-7dac-4396-8c98-c9496d93e27d"
      },
      "source": [
        "MAX_IMAGES = 12\n",
        "N_ROWS = 3\n",
        "N_COLS = 4\n",
        "\n",
        "char = '0'\n",
        "index = -1\n",
        "count = 0\n",
        "plt.figure(figsize=(16,8))\n",
        "for i,j in zip(testY, predY):\n",
        "    index += 1\n",
        "    true_char = chars[i]\n",
        "    predict_char = chars[j]\n",
        "    if i != j and true_char == char:\n",
        "        count += 1\n",
        "        if count > MAX_IMAGES:\n",
        "            break\n",
        "        plt.subplot(N_ROWS, N_COLS, count)\n",
        "        plt.imshow(testX[index].reshape(32,32), cmap='gray')\n",
        "        plt.title(predict_char, fontsize=20)\n",
        "plt.show()"
      ],
      "execution_count": null,
      "outputs": [
        {
          "output_type": "display_data",
          "data": {
            "image/png": "[encoded data removed]",
            "text/plain": [
              "<Figure size 1152x576 with 12 Axes>"
            ]
          },
          "metadata": {
            "tags": [],
            "needs_background": "light"
          }
        }
      ]
    },
    {
      "cell_type": "markdown",
      "metadata": {
        "id": "K_3_2iEDMBa3"
      },
      "source": [
        "### Hiển thị dự đoán cho một ảnh"
      ]
    },
    {
      "cell_type": "code",
      "metadata": {
        "id": "-yWwm53nMBa3",
        "colab": {
          "base_uri": "https://localhost:8080/",
          "height": 958
        },
        "outputId": "a7c4e89b-ac52-4c19-cb39-a7e9ef6160e0"
      },
      "source": [
        "dataPath = '/tmp/data/'\n",
        "inp = []\n",
        "img = cv2.imread(dataPath + '0/0.png', cv2.IMREAD_GRAYSCALE)\n",
        "img = cv2.resize(img, (32, 32))\n",
        "inp.append(img)\n",
        "inp = np.array(inp)\n",
        "inp = inp.reshape(1, 32, 32, 1)\n",
        "inp = inp.astype('float32')\n",
        "inp = inp/255\n",
        "\n",
        "pred = model.predict(inp)\n",
        "print(pred)\n",
        "pred = pred.argmax(axis=1)\n",
        "print(pred)\n",
        "plt.figure(figsize=(1,1))\n",
        "plt.imshow(inp.reshape(32,32), cmap='gray')\n",
        "charPred = chars[pred[0]]\n",
        "plt.title(charPred)"
      ],
      "execution_count": null,
      "outputs": [
        {
          "output_type": "stream",
          "text": [
            "[[9.97919977e-01 2.72697624e-04 7.58275710e-05 6.02494256e-05\n",
            "  7.54871653e-05 2.34995314e-04 6.00642079e-06 2.24504539e-08\n",
            "  1.16462529e-08 2.94868201e-08 1.38263374e-08 2.47308634e-07\n",
            "  1.94189328e-04 3.69998952e-06 4.93995958e-06 2.08302318e-08\n",
            "  2.25822248e-07 6.95581434e-07 3.62799284e-08 9.92451099e-09\n",
            "  5.64006274e-04 8.25609641e-06 6.54746998e-07 6.08309563e-08\n",
            "  3.62367700e-08 6.06482615e-08 1.85678906e-09 2.09998419e-09\n",
            "  4.75885678e-08 9.47131706e-09 2.18801047e-10 6.28973817e-11\n",
            "  1.79705625e-11 1.42770778e-11 2.40933194e-11 1.25874221e-05\n",
            "  2.62318878e-07 5.78587733e-10 1.16255521e-07 6.30015096e-10\n",
            "  2.83775670e-10 2.82220580e-10 2.78916907e-12 3.47786716e-10\n",
            "  6.29358432e-09 1.02027942e-09 1.84636410e-05 2.71561294e-05\n",
            "  3.88237510e-07 5.57099398e-08 1.26926565e-07 7.88447778e-08\n",
            "  1.52942352e-08 7.06206151e-08 2.01910471e-08 1.88601468e-09\n",
            "  4.09998507e-10 5.14670662e-09 5.22991650e-10 2.89559994e-05\n",
            "  2.08754341e-06 1.51544967e-07 3.52993857e-06 1.06166624e-06\n",
            "  2.15051088e-08 7.94892401e-08 4.38530442e-05 3.19809465e-06\n",
            "  1.55978660e-06 7.65487073e-07 2.35264724e-05 1.72039245e-06\n",
            "  1.93463322e-07 4.85392917e-08 2.32726916e-06 1.58643843e-07\n",
            "  1.07946807e-05 1.93779351e-06 5.92374647e-08 4.63937937e-08\n",
            "  1.05924563e-07 4.57615079e-06 5.47109309e-08 1.00655690e-07\n",
            "  3.46139899e-08 1.98612256e-08 1.60363545e-08 2.17655778e-08\n",
            "  1.62717970e-06 8.55287396e-08 1.54217457e-08 2.10762128e-08\n",
            "  1.90372873e-08 9.11389066e-07 1.66800049e-08 4.11980228e-10\n",
            "  7.50550802e-11 4.31973984e-10 2.46257077e-11 7.04624525e-10\n",
            "  2.57597570e-08 3.79174558e-09 3.00212605e-10 1.59329006e-09\n",
            "  2.63404937e-10 1.54395663e-10 1.96981702e-08 1.03966176e-11\n",
            "  1.86153370e-09 1.75701287e-10 1.00015767e-10 3.55272964e-11\n",
            "  3.23114660e-11 4.97488058e-11 1.12142531e-10 2.25367728e-12\n",
            "  4.24249316e-11 1.98186045e-13 5.86381811e-12 2.04376251e-12\n",
            "  3.79873953e-12 2.76836984e-13 3.56964944e-11 6.43256215e-07\n",
            "  4.90530425e-08 7.77688469e-11 1.84416909e-11 1.05013025e-12\n",
            "  1.26459078e-13 7.03132959e-14 5.52300263e-12 2.08931127e-07\n",
            "  2.61690336e-10 3.42310858e-12 6.78078891e-08 1.20743460e-08\n",
            "  5.41882095e-09 7.02514644e-11 1.28962313e-10 5.13495690e-10\n",
            "  5.25134519e-11 8.81349091e-11 1.06873703e-11 2.30138174e-12\n",
            "  6.07143079e-13 5.16039165e-12 2.26006518e-12 1.58554521e-08\n",
            "  2.04125783e-08 2.19464766e-10 1.30717948e-09 2.11430007e-09\n",
            "  7.36408781e-11 3.50150298e-10 1.63810814e-08 2.90077362e-09\n",
            "  8.03285349e-09 2.43952442e-10 5.33479760e-10 2.21215990e-10\n",
            "  3.74739684e-10 1.13487273e-08 1.06123901e-08 4.85483209e-10\n",
            "  4.55351774e-08 2.17842566e-09 1.90963001e-09 3.25626026e-10\n",
            "  1.44818857e-09 5.47109069e-09 1.53300039e-09 2.08588757e-10\n",
            "  1.32966884e-11 5.78435997e-12 1.51736592e-11 6.80545681e-12\n",
            "  7.07920663e-07 5.10720554e-07 2.79258566e-05 2.56292642e-05\n",
            "  4.25406688e-06 7.08019229e-07 2.81359158e-09 2.03873256e-08\n",
            "  3.13996396e-04 9.44663316e-06 9.71441505e-09 9.02084167e-08\n",
            "  2.58550381e-09 1.44988341e-08]]\n",
            "[0]\n"
          ],
          "name": "stdout"
        },
        {
          "output_type": "execute_result",
          "data": {
            "text/plain": [
              "Text(0.5, 1.0, 'a')"
            ]
          },
          "metadata": {
            "tags": []
          },
          "execution_count": 53
        },
        {
          "output_type": "display_data",
          "data": {
            "image/png": "[encoded data removed]",
            "text/plain": [
              "<Figure size 72x72 with 1 Axes>"
            ]
          },
          "metadata": {
            "tags": [],
            "needs_background": "light"
          }
        }
      ]
    }
  ]
}